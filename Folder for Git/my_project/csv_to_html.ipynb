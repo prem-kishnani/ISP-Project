{
 "cells": [
  {
   "cell_type": "code",
   "execution_count": 11,
   "id": "imperial-montana",
   "metadata": {},
   "outputs": [],
   "source": [
    "import pandas as pd\n",
    "\n",
    "df = pd.read_csv('schedules.csv')\n",
    "df_transposed = df.transpose()\n",
    "df_transposed.to_html(\"schedule-table.html\")"
   ]
  },
  {
   "cell_type": "code",
   "execution_count": null,
   "id": "worth-yorkshire",
   "metadata": {},
   "outputs": [],
   "source": [
    "with open ('','w') as file:\n",
    "    file.write('<html>')\n",
    "    file.write('<head>')\n",
    "    file.write('</head>')\n",
    "    file.write('<body>')\n",
    "    file.write(html_table)\n",
    "    file.write('</body>')\n",
    "    file.write('</html>')"
   ]
  }
 ],
 "metadata": {
  "kernelspec": {
   "display_name": "Python 3",
   "language": "python",
   "name": "python3"
  },
  "language_info": {
   "codemirror_mode": {
    "name": "ipython",
    "version": 3
   },
   "file_extension": ".py",
   "mimetype": "text/x-python",
   "name": "python",
   "nbconvert_exporter": "python",
   "pygments_lexer": "ipython3",
   "version": "3.9.1"
  }
 },
 "nbformat": 4,
 "nbformat_minor": 5
}
