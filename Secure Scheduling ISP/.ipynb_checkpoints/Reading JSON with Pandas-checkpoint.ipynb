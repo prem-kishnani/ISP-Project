{
 "cells": [
  {
   "cell_type": "markdown",
   "id": "recreational-bride",
   "metadata": {},
   "source": [
    "# Reading JSON w/ Pandas "
   ]
  },
  {
   "cell_type": "markdown",
   "id": "suspected-experience",
   "metadata": {},
   "source": [
    "## Simple JSON "
   ]
  },
  {
   "cell_type": "code",
   "execution_count": 1,
   "id": "quality-intranet",
   "metadata": {},
   "outputs": [
    {
     "data": {
      "text/html": [
       "<div>\n",
       "<style scoped>\n",
       "    .dataframe tbody tr th:only-of-type {\n",
       "        vertical-align: middle;\n",
       "    }\n",
       "\n",
       "    .dataframe tbody tr th {\n",
       "        vertical-align: top;\n",
       "    }\n",
       "\n",
       "    .dataframe thead th {\n",
       "        text-align: right;\n",
       "    }\n",
       "</style>\n",
       "<table border=\"1\" class=\"dataframe\">\n",
       "  <thead>\n",
       "    <tr style=\"text-align: right;\">\n",
       "      <th></th>\n",
       "      <th>school</th>\n",
       "      <th>location</th>\n",
       "      <th>ranking</th>\n",
       "    </tr>\n",
       "  </thead>\n",
       "  <tbody>\n",
       "    <tr>\n",
       "      <th>0</th>\n",
       "      <td>ABC primary school</td>\n",
       "      <td>London</td>\n",
       "      <td>2</td>\n",
       "    </tr>\n",
       "  </tbody>\n",
       "</table>\n",
       "</div>"
      ],
      "text/plain": [
       "               school location  ranking\n",
       "0  ABC primary school   London        2"
      ]
     },
     "execution_count": 1,
     "metadata": {},
     "output_type": "execute_result"
    }
   ],
   "source": [
    "import pandas as pd\n",
    "\n",
    "a_dict = {\n",
    "    'school': 'ABC primary school',\n",
    "    'location': 'London',\n",
    "    'ranking': 2,\n",
    "}\n",
    "df = pd.json_normalize(a_dict)\n",
    "df"
   ]
  },
  {
   "cell_type": "markdown",
   "id": "educational-proposition",
   "metadata": {},
   "source": [
    "## List of Dictionaries"
   ]
  },
  {
   "cell_type": "code",
   "execution_count": 2,
   "id": "desperate-automation",
   "metadata": {},
   "outputs": [
    {
     "data": {
      "text/html": [
       "<div>\n",
       "<style scoped>\n",
       "    .dataframe tbody tr th:only-of-type {\n",
       "        vertical-align: middle;\n",
       "    }\n",
       "\n",
       "    .dataframe tbody tr th {\n",
       "        vertical-align: top;\n",
       "    }\n",
       "\n",
       "    .dataframe thead th {\n",
       "        text-align: right;\n",
       "    }\n",
       "</style>\n",
       "<table border=\"1\" class=\"dataframe\">\n",
       "  <thead>\n",
       "    <tr style=\"text-align: right;\">\n",
       "      <th></th>\n",
       "      <th>class</th>\n",
       "      <th>student number</th>\n",
       "      <th>room</th>\n",
       "    </tr>\n",
       "  </thead>\n",
       "  <tbody>\n",
       "    <tr>\n",
       "      <th>0</th>\n",
       "      <td>Year 1</td>\n",
       "      <td>20</td>\n",
       "      <td>Yellow</td>\n",
       "    </tr>\n",
       "    <tr>\n",
       "      <th>1</th>\n",
       "      <td>Year 2</td>\n",
       "      <td>25</td>\n",
       "      <td>Blue</td>\n",
       "    </tr>\n",
       "  </tbody>\n",
       "</table>\n",
       "</div>"
      ],
      "text/plain": [
       "    class  student number    room\n",
       "0  Year 1              20  Yellow\n",
       "1  Year 2              25    Blue"
      ]
     },
     "execution_count": 2,
     "metadata": {},
     "output_type": "execute_result"
    }
   ],
   "source": [
    "json_list = [\n",
    "    { 'class': 'Year 1', 'student number': 20, 'room': 'Yellow' },\n",
    "    { 'class': 'Year 2', 'student number': 25, 'room': 'Blue' },\n",
    "]\n",
    "pd.json_normalize(json_list)"
   ]
  },
  {
   "cell_type": "code",
   "execution_count": 3,
   "id": "experimental-cooking",
   "metadata": {},
   "outputs": [
    {
     "data": {
      "text/html": [
       "<div>\n",
       "<style scoped>\n",
       "    .dataframe tbody tr th:only-of-type {\n",
       "        vertical-align: middle;\n",
       "    }\n",
       "\n",
       "    .dataframe tbody tr th {\n",
       "        vertical-align: top;\n",
       "    }\n",
       "\n",
       "    .dataframe thead th {\n",
       "        text-align: right;\n",
       "    }\n",
       "</style>\n",
       "<table border=\"1\" class=\"dataframe\">\n",
       "  <thead>\n",
       "    <tr style=\"text-align: right;\">\n",
       "      <th></th>\n",
       "      <th>class</th>\n",
       "      <th>num_of_students</th>\n",
       "      <th>room</th>\n",
       "    </tr>\n",
       "  </thead>\n",
       "  <tbody>\n",
       "    <tr>\n",
       "      <th>0</th>\n",
       "      <td>Year 1</td>\n",
       "      <td>20.0</td>\n",
       "      <td>Yellow</td>\n",
       "    </tr>\n",
       "    <tr>\n",
       "      <th>1</th>\n",
       "      <td>Year 2</td>\n",
       "      <td>NaN</td>\n",
       "      <td>Blue</td>\n",
       "    </tr>\n",
       "  </tbody>\n",
       "</table>\n",
       "</div>"
      ],
      "text/plain": [
       "    class  num_of_students    room\n",
       "0  Year 1             20.0  Yellow\n",
       "1  Year 2              NaN    Blue"
      ]
     },
     "execution_count": 3,
     "metadata": {},
     "output_type": "execute_result"
    }
   ],
   "source": [
    "json_list = [\n",
    "    { 'class': 'Year 1', 'num_of_students': 20, 'room': 'Yellow' },\n",
    "    { 'class': 'Year 2', 'room': 'Blue' }, # no num_of_students\n",
    "]\n",
    "pd.json_normalize(json_list)"
   ]
  },
  {
   "cell_type": "markdown",
   "id": "sized-blackberry",
   "metadata": {},
   "source": [
    "## Flattening Multi-Level JSON"
   ]
  },
  {
   "cell_type": "code",
   "execution_count": 4,
   "id": "collective-partner",
   "metadata": {},
   "outputs": [
    {
     "data": {
      "text/html": [
       "<div>\n",
       "<style scoped>\n",
       "    .dataframe tbody tr th:only-of-type {\n",
       "        vertical-align: middle;\n",
       "    }\n",
       "\n",
       "    .dataframe tbody tr th {\n",
       "        vertical-align: top;\n",
       "    }\n",
       "\n",
       "    .dataframe thead th {\n",
       "        text-align: right;\n",
       "    }\n",
       "</style>\n",
       "<table border=\"1\" class=\"dataframe\">\n",
       "  <thead>\n",
       "    <tr style=\"text-align: right;\">\n",
       "      <th></th>\n",
       "      <th>school</th>\n",
       "      <th>location</th>\n",
       "      <th>ranking</th>\n",
       "      <th>info.president</th>\n",
       "      <th>info.contacts.email.admission</th>\n",
       "      <th>info.contacts.email.general</th>\n",
       "      <th>info.contacts.tel</th>\n",
       "    </tr>\n",
       "  </thead>\n",
       "  <tbody>\n",
       "    <tr>\n",
       "      <th>0</th>\n",
       "      <td>ABC primary school</td>\n",
       "      <td>London</td>\n",
       "      <td>2</td>\n",
       "      <td>John Kasich</td>\n",
       "      <td>admission@abc.com</td>\n",
       "      <td>info@abc.com</td>\n",
       "      <td>123456789</td>\n",
       "    </tr>\n",
       "  </tbody>\n",
       "</table>\n",
       "</div>"
      ],
      "text/plain": [
       "               school location  ranking info.president  \\\n",
       "0  ABC primary school   London        2    John Kasich   \n",
       "\n",
       "  info.contacts.email.admission info.contacts.email.general info.contacts.tel  \n",
       "0             admission@abc.com                info@abc.com         123456789  "
      ]
     },
     "execution_count": 4,
     "metadata": {},
     "output_type": "execute_result"
    }
   ],
   "source": [
    "json_obj = {\n",
    "    'school': 'ABC primary school',\n",
    "    'location': 'London',\n",
    "    'ranking': 2,\n",
    "    'info': {\n",
    "        'president': 'John Kasich',\n",
    "        'contacts': {\n",
    "          'email': {\n",
    "              'admission': 'admission@abc.com',\n",
    "              'general': 'info@abc.com'\n",
    "          },\n",
    "          'tel': '123456789',\n",
    "      }\n",
    "    }\n",
    "}\n",
    "pd.json_normalize(json_obj)"
   ]
  },
  {
   "cell_type": "code",
   "execution_count": 5,
   "id": "fifty-composition",
   "metadata": {},
   "outputs": [
    {
     "data": {
      "text/html": [
       "<div>\n",
       "<style scoped>\n",
       "    .dataframe tbody tr th:only-of-type {\n",
       "        vertical-align: middle;\n",
       "    }\n",
       "\n",
       "    .dataframe tbody tr th {\n",
       "        vertical-align: top;\n",
       "    }\n",
       "\n",
       "    .dataframe thead th {\n",
       "        text-align: right;\n",
       "    }\n",
       "</style>\n",
       "<table border=\"1\" class=\"dataframe\">\n",
       "  <thead>\n",
       "    <tr style=\"text-align: right;\">\n",
       "      <th></th>\n",
       "      <th>school</th>\n",
       "      <th>location</th>\n",
       "      <th>ranking</th>\n",
       "      <th>info.president</th>\n",
       "      <th>info.contacts</th>\n",
       "    </tr>\n",
       "  </thead>\n",
       "  <tbody>\n",
       "    <tr>\n",
       "      <th>0</th>\n",
       "      <td>ABC primary school</td>\n",
       "      <td>London</td>\n",
       "      <td>2</td>\n",
       "      <td>John Kasich</td>\n",
       "      <td>{'email': {'admission': 'admission@abc.com', '...</td>\n",
       "    </tr>\n",
       "  </tbody>\n",
       "</table>\n",
       "</div>"
      ],
      "text/plain": [
       "               school location  ranking info.president  \\\n",
       "0  ABC primary school   London        2    John Kasich   \n",
       "\n",
       "                                       info.contacts  \n",
       "0  {'email': {'admission': 'admission@abc.com', '...  "
      ]
     },
     "execution_count": 5,
     "metadata": {},
     "output_type": "execute_result"
    }
   ],
   "source": [
    "pd.json_normalize(json_obj, max_level=1)"
   ]
  },
  {
   "cell_type": "markdown",
   "id": "quality-selection",
   "metadata": {},
   "source": [
    "## List of Dictionaries "
   ]
  },
  {
   "cell_type": "code",
   "execution_count": 6,
   "id": "heavy-soviet",
   "metadata": {},
   "outputs": [
    {
     "data": {
      "text/html": [
       "<div>\n",
       "<style scoped>\n",
       "    .dataframe tbody tr th:only-of-type {\n",
       "        vertical-align: middle;\n",
       "    }\n",
       "\n",
       "    .dataframe tbody tr th {\n",
       "        vertical-align: top;\n",
       "    }\n",
       "\n",
       "    .dataframe thead th {\n",
       "        text-align: right;\n",
       "    }\n",
       "</style>\n",
       "<table border=\"1\" class=\"dataframe\">\n",
       "  <thead>\n",
       "    <tr style=\"text-align: right;\">\n",
       "      <th></th>\n",
       "      <th>class</th>\n",
       "      <th>student count</th>\n",
       "      <th>room</th>\n",
       "      <th>info.teachers.math</th>\n",
       "      <th>info.teachers.physics</th>\n",
       "    </tr>\n",
       "  </thead>\n",
       "  <tbody>\n",
       "    <tr>\n",
       "      <th>0</th>\n",
       "      <td>Year 1</td>\n",
       "      <td>20</td>\n",
       "      <td>Yellow</td>\n",
       "      <td>Rick Scott</td>\n",
       "      <td>Elon Mask</td>\n",
       "    </tr>\n",
       "    <tr>\n",
       "      <th>1</th>\n",
       "      <td>Year 2</td>\n",
       "      <td>25</td>\n",
       "      <td>Blue</td>\n",
       "      <td>Alan Turing</td>\n",
       "      <td>Albert Einstein</td>\n",
       "    </tr>\n",
       "  </tbody>\n",
       "</table>\n",
       "</div>"
      ],
      "text/plain": [
       "    class  student count    room info.teachers.math info.teachers.physics\n",
       "0  Year 1             20  Yellow         Rick Scott             Elon Mask\n",
       "1  Year 2             25    Blue        Alan Turing       Albert Einstein"
      ]
     },
     "execution_count": 6,
     "metadata": {},
     "output_type": "execute_result"
    }
   ],
   "source": [
    "json_list = [\n",
    "    { \n",
    "        'class': 'Year 1', \n",
    "        'student count': 20, \n",
    "        'room': 'Yellow',\n",
    "        'info': {\n",
    "            'teachers': { \n",
    "                'math': 'Rick Scott', \n",
    "                'physics': 'Elon Mask' \n",
    "            }\n",
    "        }\n",
    "    },\n",
    "    { \n",
    "        'class': 'Year 2', \n",
    "        'student count': 25, \n",
    "        'room': 'Blue',\n",
    "        'info': {\n",
    "            'teachers': { \n",
    "                'math': 'Alan Turing', \n",
    "                'physics': 'Albert Einstein' \n",
    "            }\n",
    "        }\n",
    "    },\n",
    "]\n",
    "pd.json_normalize(json_list)"
   ]
  },
  {
   "cell_type": "code",
   "execution_count": 7,
   "id": "outstanding-fusion",
   "metadata": {},
   "outputs": [
    {
     "data": {
      "text/html": [
       "<div>\n",
       "<style scoped>\n",
       "    .dataframe tbody tr th:only-of-type {\n",
       "        vertical-align: middle;\n",
       "    }\n",
       "\n",
       "    .dataframe tbody tr th {\n",
       "        vertical-align: top;\n",
       "    }\n",
       "\n",
       "    .dataframe thead th {\n",
       "        text-align: right;\n",
       "    }\n",
       "</style>\n",
       "<table border=\"1\" class=\"dataframe\">\n",
       "  <thead>\n",
       "    <tr style=\"text-align: right;\">\n",
       "      <th></th>\n",
       "      <th>class</th>\n",
       "      <th>student count</th>\n",
       "      <th>room</th>\n",
       "      <th>info.teachers</th>\n",
       "    </tr>\n",
       "  </thead>\n",
       "  <tbody>\n",
       "    <tr>\n",
       "      <th>0</th>\n",
       "      <td>Year 1</td>\n",
       "      <td>20</td>\n",
       "      <td>Yellow</td>\n",
       "      <td>{'math': 'Rick Scott', 'physics': 'Elon Mask'}</td>\n",
       "    </tr>\n",
       "    <tr>\n",
       "      <th>1</th>\n",
       "      <td>Year 2</td>\n",
       "      <td>25</td>\n",
       "      <td>Blue</td>\n",
       "      <td>{'math': 'Alan Turing', 'physics': 'Albert Ein...</td>\n",
       "    </tr>\n",
       "  </tbody>\n",
       "</table>\n",
       "</div>"
      ],
      "text/plain": [
       "    class  student count    room  \\\n",
       "0  Year 1             20  Yellow   \n",
       "1  Year 2             25    Blue   \n",
       "\n",
       "                                       info.teachers  \n",
       "0     {'math': 'Rick Scott', 'physics': 'Elon Mask'}  \n",
       "1  {'math': 'Alan Turing', 'physics': 'Albert Ein...  "
      ]
     },
     "execution_count": 7,
     "metadata": {},
     "output_type": "execute_result"
    }
   ],
   "source": [
    "pd.json_normalize(json_list, max_level=1)"
   ]
  },
  {
   "cell_type": "markdown",
   "id": "sublime-sleeping",
   "metadata": {},
   "source": [
    "## Nested Lists "
   ]
  },
  {
   "cell_type": "code",
   "execution_count": 8,
   "id": "modern-assignment",
   "metadata": {},
   "outputs": [
    {
     "data": {
      "text/html": [
       "<div>\n",
       "<style scoped>\n",
       "    .dataframe tbody tr th:only-of-type {\n",
       "        vertical-align: middle;\n",
       "    }\n",
       "\n",
       "    .dataframe tbody tr th {\n",
       "        vertical-align: top;\n",
       "    }\n",
       "\n",
       "    .dataframe thead th {\n",
       "        text-align: right;\n",
       "    }\n",
       "</style>\n",
       "<table border=\"1\" class=\"dataframe\">\n",
       "  <thead>\n",
       "    <tr style=\"text-align: right;\">\n",
       "      <th></th>\n",
       "      <th>school</th>\n",
       "      <th>location</th>\n",
       "      <th>ranking</th>\n",
       "      <th>students</th>\n",
       "      <th>info.president</th>\n",
       "      <th>info.contacts.email.admission</th>\n",
       "      <th>info.contacts.email.general</th>\n",
       "      <th>info.contacts.tel</th>\n",
       "    </tr>\n",
       "  </thead>\n",
       "  <tbody>\n",
       "    <tr>\n",
       "      <th>0</th>\n",
       "      <td>ABC primary school</td>\n",
       "      <td>London</td>\n",
       "      <td>2</td>\n",
       "      <td>[{'name': 'Tom'}, {'name': 'James'}, {'name': ...</td>\n",
       "      <td>John Kasich</td>\n",
       "      <td>admission@abc.com</td>\n",
       "      <td>info@abc.com</td>\n",
       "      <td>123456789</td>\n",
       "    </tr>\n",
       "  </tbody>\n",
       "</table>\n",
       "</div>"
      ],
      "text/plain": [
       "               school location  ranking  \\\n",
       "0  ABC primary school   London        2   \n",
       "\n",
       "                                            students info.president  \\\n",
       "0  [{'name': 'Tom'}, {'name': 'James'}, {'name': ...    John Kasich   \n",
       "\n",
       "  info.contacts.email.admission info.contacts.email.general info.contacts.tel  \n",
       "0             admission@abc.com                info@abc.com         123456789  "
      ]
     },
     "execution_count": 8,
     "metadata": {},
     "output_type": "execute_result"
    }
   ],
   "source": [
    "json_obj = {\n",
    "    'school': 'ABC primary school',\n",
    "    'location': 'London',\n",
    "    'ranking': 2,\n",
    "    'info': {\n",
    "        'president': 'John Kasich',\n",
    "        'contacts': {\n",
    "          'email': {\n",
    "              'admission': 'admission@abc.com',\n",
    "              'general': 'info@abc.com'\n",
    "          },\n",
    "          'tel': '123456789',\n",
    "      }\n",
    "    },\n",
    "    'students': [\n",
    "      { 'name': 'Tom' },\n",
    "      { 'name': 'James' },\n",
    "      { 'name': 'Jacqueline' }\n",
    "    ],\n",
    "}\n",
    "pd.json_normalize(json_obj)"
   ]
  },
  {
   "cell_type": "code",
   "execution_count": 9,
   "id": "retained-citizenship",
   "metadata": {},
   "outputs": [
    {
     "data": {
      "text/html": [
       "<div>\n",
       "<style scoped>\n",
       "    .dataframe tbody tr th:only-of-type {\n",
       "        vertical-align: middle;\n",
       "    }\n",
       "\n",
       "    .dataframe tbody tr th {\n",
       "        vertical-align: top;\n",
       "    }\n",
       "\n",
       "    .dataframe thead th {\n",
       "        text-align: right;\n",
       "    }\n",
       "</style>\n",
       "<table border=\"1\" class=\"dataframe\">\n",
       "  <thead>\n",
       "    <tr style=\"text-align: right;\">\n",
       "      <th></th>\n",
       "      <th>name</th>\n",
       "    </tr>\n",
       "  </thead>\n",
       "  <tbody>\n",
       "    <tr>\n",
       "      <th>0</th>\n",
       "      <td>Tom</td>\n",
       "    </tr>\n",
       "    <tr>\n",
       "      <th>1</th>\n",
       "      <td>James</td>\n",
       "    </tr>\n",
       "    <tr>\n",
       "      <th>2</th>\n",
       "      <td>Jacqueline</td>\n",
       "    </tr>\n",
       "  </tbody>\n",
       "</table>\n",
       "</div>"
      ],
      "text/plain": [
       "         name\n",
       "0         Tom\n",
       "1       James\n",
       "2  Jacqueline"
      ]
     },
     "execution_count": 9,
     "metadata": {},
     "output_type": "execute_result"
    }
   ],
   "source": [
    "# Flatten students\n",
    "pd.json_normalize(json_obj, record_path=['students'])"
   ]
  },
  {
   "cell_type": "markdown",
   "id": "thousand-concentrate",
   "metadata": {},
   "source": [
    "## API for Classes Example "
   ]
  },
  {
   "cell_type": "code",
   "execution_count": 10,
   "id": "higher-dryer",
   "metadata": {},
   "outputs": [],
   "source": [
    "my_json={\"metadata\":{\"per\":10,\"page\":1,\"total\":694},\"items\":[{\"id\":\"AG1AAA\",\"description\":\"Advanced Animal Science\",\"locationName\":\"Allen High School\",\"semester\":1,\"availability\":[[3]]},{\"id\":\"AG1AAB\",\"description\":\"Advanced Animal Science\",\"locationName\":\"Allen High School\",\"semester\":2,\"availability\":[[3]]},{\"id\":\"AG1EQC\",\"description\":\"Equine Science\",\"locationName\":\"Allen High School\",\"semester\":1,\"availability\":[[2],[4]]},{\"id\":\"AG1EQC\",\"description\":\"Equine Science\",\"locationName\":\"Allen High School\",\"semester\":2,\"availability\":[[2],[4]]},{\"id\":\"AG1FLA\",\"description\":\"Floral Design\",\"locationName\":\"Allen High School\",\"semester\":1,\"availability\":[[3],[7]]},{\"id\":\"AG1FLB\",\"description\":\"Floral Design\",\"locationName\":\"Allen High School\",\"semester\":2,\"availability\":[[3],[7]]},{\"id\":\"AG1FNA\",\"description\":\"Prin Agric Food Natural Res\",\"locationName\":\"Allen High School\",\"semester\":1,\"availability\":[[5],[7]]},{\"id\":\"AG1FNB\",\"description\":\"Prin Agric Food Natural Res\",\"locationName\":\"Allen High School\",\"semester\":2,\"availability\":[[5],[7]]},{\"id\":\"AG1LPA\",\"description\":\"Livestock Production\",\"locationName\":\"Allen High School\",\"semester\":1,\"availability\":[[6]]},{\"id\":\"AG1LPB\",\"description\":\"Livestock Production\",\"locationName\":\"Allen High School\",\"semester\":2,\"availability\":[[6]]}]}\r\n",
    "\r\n",
    "import pandas as pd\r\n",
    "\r\n",
    "\r\n",
    "df=pd.json_normalize(my_json,record_path='items')"
   ]
  },
  {
   "cell_type": "code",
   "execution_count": 11,
   "id": "national-norfolk",
   "metadata": {},
   "outputs": [],
   "source": [
    "csv_file = df.to_csv(\"json_test.csv\")"
   ]
  },
  {
   "cell_type": "code",
   "execution_count": 12,
   "id": "revolutionary-defensive",
   "metadata": {},
   "outputs": [
    {
     "data": {
      "text/html": [
       "<div>\n",
       "<style scoped>\n",
       "    .dataframe tbody tr th:only-of-type {\n",
       "        vertical-align: middle;\n",
       "    }\n",
       "\n",
       "    .dataframe tbody tr th {\n",
       "        vertical-align: top;\n",
       "    }\n",
       "\n",
       "    .dataframe thead th {\n",
       "        text-align: right;\n",
       "    }\n",
       "</style>\n",
       "<table border=\"1\" class=\"dataframe\">\n",
       "  <thead>\n",
       "    <tr style=\"text-align: right;\">\n",
       "      <th></th>\n",
       "      <th>id</th>\n",
       "      <th>description</th>\n",
       "      <th>locationName</th>\n",
       "      <th>semester</th>\n",
       "      <th>availability</th>\n",
       "    </tr>\n",
       "  </thead>\n",
       "  <tbody>\n",
       "    <tr>\n",
       "      <th>0</th>\n",
       "      <td>AG1AAA</td>\n",
       "      <td>Advanced Animal Science</td>\n",
       "      <td>Allen High School</td>\n",
       "      <td>1</td>\n",
       "      <td>[[3]]</td>\n",
       "    </tr>\n",
       "    <tr>\n",
       "      <th>1</th>\n",
       "      <td>AG1AAB</td>\n",
       "      <td>Advanced Animal Science</td>\n",
       "      <td>Allen High School</td>\n",
       "      <td>2</td>\n",
       "      <td>[[3]]</td>\n",
       "    </tr>\n",
       "    <tr>\n",
       "      <th>2</th>\n",
       "      <td>AG1EQC</td>\n",
       "      <td>Equine Science</td>\n",
       "      <td>Allen High School</td>\n",
       "      <td>1</td>\n",
       "      <td>[[2], [4]]</td>\n",
       "    </tr>\n",
       "    <tr>\n",
       "      <th>3</th>\n",
       "      <td>AG1EQC</td>\n",
       "      <td>Equine Science</td>\n",
       "      <td>Allen High School</td>\n",
       "      <td>2</td>\n",
       "      <td>[[2], [4]]</td>\n",
       "    </tr>\n",
       "    <tr>\n",
       "      <th>4</th>\n",
       "      <td>AG1FLA</td>\n",
       "      <td>Floral Design</td>\n",
       "      <td>Allen High School</td>\n",
       "      <td>1</td>\n",
       "      <td>[[3], [7]]</td>\n",
       "    </tr>\n",
       "    <tr>\n",
       "      <th>5</th>\n",
       "      <td>AG1FLB</td>\n",
       "      <td>Floral Design</td>\n",
       "      <td>Allen High School</td>\n",
       "      <td>2</td>\n",
       "      <td>[[3], [7]]</td>\n",
       "    </tr>\n",
       "    <tr>\n",
       "      <th>6</th>\n",
       "      <td>AG1FNA</td>\n",
       "      <td>Prin Agric Food Natural Res</td>\n",
       "      <td>Allen High School</td>\n",
       "      <td>1</td>\n",
       "      <td>[[5], [7]]</td>\n",
       "    </tr>\n",
       "    <tr>\n",
       "      <th>7</th>\n",
       "      <td>AG1FNB</td>\n",
       "      <td>Prin Agric Food Natural Res</td>\n",
       "      <td>Allen High School</td>\n",
       "      <td>2</td>\n",
       "      <td>[[5], [7]]</td>\n",
       "    </tr>\n",
       "    <tr>\n",
       "      <th>8</th>\n",
       "      <td>AG1LPA</td>\n",
       "      <td>Livestock Production</td>\n",
       "      <td>Allen High School</td>\n",
       "      <td>1</td>\n",
       "      <td>[[6]]</td>\n",
       "    </tr>\n",
       "    <tr>\n",
       "      <th>9</th>\n",
       "      <td>AG1LPB</td>\n",
       "      <td>Livestock Production</td>\n",
       "      <td>Allen High School</td>\n",
       "      <td>2</td>\n",
       "      <td>[[6]]</td>\n",
       "    </tr>\n",
       "  </tbody>\n",
       "</table>\n",
       "</div>"
      ],
      "text/plain": [
       "       id                  description       locationName  semester  \\\n",
       "0  AG1AAA      Advanced Animal Science  Allen High School         1   \n",
       "1  AG1AAB      Advanced Animal Science  Allen High School         2   \n",
       "2  AG1EQC               Equine Science  Allen High School         1   \n",
       "3  AG1EQC               Equine Science  Allen High School         2   \n",
       "4  AG1FLA                Floral Design  Allen High School         1   \n",
       "5  AG1FLB                Floral Design  Allen High School         2   \n",
       "6  AG1FNA  Prin Agric Food Natural Res  Allen High School         1   \n",
       "7  AG1FNB  Prin Agric Food Natural Res  Allen High School         2   \n",
       "8  AG1LPA         Livestock Production  Allen High School         1   \n",
       "9  AG1LPB         Livestock Production  Allen High School         2   \n",
       "\n",
       "  availability  \n",
       "0        [[3]]  \n",
       "1        [[3]]  \n",
       "2   [[2], [4]]  \n",
       "3   [[2], [4]]  \n",
       "4   [[3], [7]]  \n",
       "5   [[3], [7]]  \n",
       "6   [[5], [7]]  \n",
       "7   [[5], [7]]  \n",
       "8        [[6]]  \n",
       "9        [[6]]  "
      ]
     },
     "execution_count": 12,
     "metadata": {},
     "output_type": "execute_result"
    }
   ],
   "source": [
    "df"
   ]
  },
  {
   "cell_type": "code",
   "execution_count": 13,
   "id": "pressing-transcription",
   "metadata": {},
   "outputs": [],
   "source": [
    "html_table=df.to_html()"
   ]
  },
  {
   "cell_type": "code",
   "execution_count": 14,
   "id": "documented-flash",
   "metadata": {},
   "outputs": [],
   "source": [
    "with open ('test.html','w') as file:\n",
    "    file.write('<html>')\n",
    "    file.write('<head>')\n",
    "    file.write('<link rel=\"stylesheet\" href=\"APItest.css\">')\n",
    "    file.write('</head>')\n",
    "    file.write('<body>')\n",
    "    file.write(html_table)\n",
    "    file.write('</body>')\n",
    "    file.write('</html>')"
   ]
  },
  {
   "cell_type": "code",
   "execution_count": null,
   "id": "western-vermont",
   "metadata": {},
   "outputs": [],
   "source": []
  },
  {
   "cell_type": "code",
   "execution_count": null,
   "id": "chubby-paper",
   "metadata": {},
   "outputs": [],
   "source": []
  },
  {
   "cell_type": "code",
   "execution_count": null,
   "id": "monetary-gravity",
   "metadata": {},
   "outputs": [],
   "source": []
  }
 ],
 "metadata": {
  "kernelspec": {
   "display_name": "Python 3",
   "language": "python",
   "name": "python3"
  },
  "language_info": {
   "codemirror_mode": {
    "name": "ipython",
    "version": 3
   },
   "file_extension": ".py",
   "mimetype": "text/x-python",
   "name": "python",
   "nbconvert_exporter": "python",
   "pygments_lexer": "ipython3",
   "version": "3.9.1"
  }
 },
 "nbformat": 4,
 "nbformat_minor": 5
}
