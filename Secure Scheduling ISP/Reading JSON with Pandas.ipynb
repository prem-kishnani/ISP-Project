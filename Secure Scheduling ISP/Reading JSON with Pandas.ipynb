{
 "cells": [
  {
   "cell_type": "markdown",
   "metadata": {},
   "source": [
    "# Reading JSON w/ Pandas "
   ]
  },
  {
   "cell_type": "markdown",
   "metadata": {},
   "source": [
    "## Simple JSON "
   ]
  },
  {
   "cell_type": "code",
   "execution_count": 1,
   "metadata": {},
   "outputs": [
    {
     "data": {
      "text/html": "<div>\n<style scoped>\n    .dataframe tbody tr th:only-of-type {\n        vertical-align: middle;\n    }\n\n    .dataframe tbody tr th {\n        vertical-align: top;\n    }\n\n    .dataframe thead th {\n        text-align: right;\n    }\n</style>\n<table border=\"1\" class=\"dataframe\">\n  <thead>\n    <tr style=\"text-align: right;\">\n      <th></th>\n      <th>school</th>\n      <th>location</th>\n      <th>ranking</th>\n    </tr>\n  </thead>\n  <tbody>\n    <tr>\n      <th>0</th>\n      <td>ABC primary school</td>\n      <td>London</td>\n      <td>2</td>\n    </tr>\n  </tbody>\n</table>\n</div>",
      "text/plain": "               school location  ranking\n0  ABC primary school   London        2"
     },
     "execution_count": 1,
     "metadata": {},
     "output_type": "execute_result"
    }
   ],
   "source": [
    "import pandas as pd\n",
    "\n",
    "a_dict = {\n",
    "    'school': 'ABC primary school',\n",
    "    'location': 'London',\n",
    "    'ranking': 2,\n",
    "}\n",
    "df = pd.json_normalize(a_dict)\n",
    "df"
   ]
  },
  {
   "cell_type": "markdown",
   "metadata": {},
   "source": [
    "## List of Dictionaries"
   ]
  },
  {
   "cell_type": "code",
   "execution_count": 2,
   "metadata": {},
   "outputs": [
    {
     "data": {
      "text/html": "<div>\n<style scoped>\n    .dataframe tbody tr th:only-of-type {\n        vertical-align: middle;\n    }\n\n    .dataframe tbody tr th {\n        vertical-align: top;\n    }\n\n    .dataframe thead th {\n        text-align: right;\n    }\n</style>\n<table border=\"1\" class=\"dataframe\">\n  <thead>\n    <tr style=\"text-align: right;\">\n      <th></th>\n      <th>class</th>\n      <th>student number</th>\n      <th>room</th>\n    </tr>\n  </thead>\n  <tbody>\n    <tr>\n      <th>0</th>\n      <td>Year 1</td>\n      <td>20</td>\n      <td>Yellow</td>\n    </tr>\n    <tr>\n      <th>1</th>\n      <td>Year 2</td>\n      <td>25</td>\n      <td>Blue</td>\n    </tr>\n  </tbody>\n</table>\n</div>",
      "text/plain": "    class  student number    room\n0  Year 1              20  Yellow\n1  Year 2              25    Blue"
     },
     "execution_count": 2,
     "metadata": {},
     "output_type": "execute_result"
    }
   ],
   "source": [
    "json_list = [\n",
    "    { 'class': 'Year 1', 'student number': 20, 'room': 'Yellow' },\n",
    "    { 'class': 'Year 2', 'student number': 25, 'room': 'Blue' },\n",
    "]\n",
    "pd.json_normalize(json_list)"
   ]
  },
  {
   "cell_type": "code",
   "execution_count": 3,
   "metadata": {},
   "outputs": [
    {
     "data": {
      "text/html": "<div>\n<style scoped>\n    .dataframe tbody tr th:only-of-type {\n        vertical-align: middle;\n    }\n\n    .dataframe tbody tr th {\n        vertical-align: top;\n    }\n\n    .dataframe thead th {\n        text-align: right;\n    }\n</style>\n<table border=\"1\" class=\"dataframe\">\n  <thead>\n    <tr style=\"text-align: right;\">\n      <th></th>\n      <th>class</th>\n      <th>num_of_students</th>\n      <th>room</th>\n    </tr>\n  </thead>\n  <tbody>\n    <tr>\n      <th>0</th>\n      <td>Year 1</td>\n      <td>20.0</td>\n      <td>Yellow</td>\n    </tr>\n    <tr>\n      <th>1</th>\n      <td>Year 2</td>\n      <td>NaN</td>\n      <td>Blue</td>\n    </tr>\n  </tbody>\n</table>\n</div>",
      "text/plain": "    class  num_of_students    room\n0  Year 1             20.0  Yellow\n1  Year 2              NaN    Blue"
     },
     "execution_count": 3,
     "metadata": {},
     "output_type": "execute_result"
    }
   ],
   "source": [
    "json_list = [\n",
    "    { 'class': 'Year 1', 'num_of_students': 20, 'room': 'Yellow' },\n",
    "    { 'class': 'Year 2', 'room': 'Blue' }, # no num_of_students\n",
    "]\n",
    "pd.json_normalize(json_list)"
   ]
  },
  {
   "cell_type": "markdown",
   "metadata": {},
   "source": [
    "## Flattening Multi-Level JSON"
   ]
  },
  {
   "cell_type": "code",
   "execution_count": 4,
   "metadata": {},
   "outputs": [
    {
     "data": {
      "text/html": "<div>\n<style scoped>\n    .dataframe tbody tr th:only-of-type {\n        vertical-align: middle;\n    }\n\n    .dataframe tbody tr th {\n        vertical-align: top;\n    }\n\n    .dataframe thead th {\n        text-align: right;\n    }\n</style>\n<table border=\"1\" class=\"dataframe\">\n  <thead>\n    <tr style=\"text-align: right;\">\n      <th></th>\n      <th>school</th>\n      <th>location</th>\n      <th>ranking</th>\n      <th>info.president</th>\n      <th>info.contacts.email.admission</th>\n      <th>info.contacts.email.general</th>\n      <th>info.contacts.tel</th>\n    </tr>\n  </thead>\n  <tbody>\n    <tr>\n      <th>0</th>\n      <td>ABC primary school</td>\n      <td>London</td>\n      <td>2</td>\n      <td>John Kasich</td>\n      <td>admission@abc.com</td>\n      <td>info@abc.com</td>\n      <td>123456789</td>\n    </tr>\n  </tbody>\n</table>\n</div>",
      "text/plain": "               school location  ranking info.president  \\\n0  ABC primary school   London        2    John Kasich   \n\n  info.contacts.email.admission info.contacts.email.general info.contacts.tel  \n0             admission@abc.com                info@abc.com         123456789  "
     },
     "execution_count": 4,
     "metadata": {},
     "output_type": "execute_result"
    }
   ],
   "source": [
    "json_obj = {\n",
    "    'school': 'ABC primary school',\n",
    "    'location': 'London',\n",
    "    'ranking': 2,\n",
    "    'info': {\n",
    "        'president': 'John Kasich',\n",
    "        'contacts': {\n",
    "          'email': {\n",
    "              'admission': 'admission@abc.com',\n",
    "              'general': 'info@abc.com'\n",
    "          },\n",
    "          'tel': '123456789',\n",
    "      }\n",
    "    }\n",
    "}\n",
    "pd.json_normalize(json_obj)"
   ]
  },
  {
   "cell_type": "code",
   "execution_count": 5,
   "metadata": {},
   "outputs": [
    {
     "data": {
      "text/html": "<div>\n<style scoped>\n    .dataframe tbody tr th:only-of-type {\n        vertical-align: middle;\n    }\n\n    .dataframe tbody tr th {\n        vertical-align: top;\n    }\n\n    .dataframe thead th {\n        text-align: right;\n    }\n</style>\n<table border=\"1\" class=\"dataframe\">\n  <thead>\n    <tr style=\"text-align: right;\">\n      <th></th>\n      <th>school</th>\n      <th>location</th>\n      <th>ranking</th>\n      <th>info.president</th>\n      <th>info.contacts</th>\n    </tr>\n  </thead>\n  <tbody>\n    <tr>\n      <th>0</th>\n      <td>ABC primary school</td>\n      <td>London</td>\n      <td>2</td>\n      <td>John Kasich</td>\n      <td>{'email': {'admission': 'admission@abc.com', '...</td>\n    </tr>\n  </tbody>\n</table>\n</div>",
      "text/plain": "               school location  ranking info.president  \\\n0  ABC primary school   London        2    John Kasich   \n\n                                       info.contacts  \n0  {'email': {'admission': 'admission@abc.com', '...  "
     },
     "execution_count": 5,
     "metadata": {},
     "output_type": "execute_result"
    }
   ],
   "source": [
    "pd.json_normalize(json_obj, max_level=1)"
   ]
  },
  {
   "cell_type": "markdown",
   "metadata": {},
   "source": [
    "## List of Dictionaries "
   ]
  },
  {
   "cell_type": "code",
   "execution_count": 6,
   "metadata": {},
   "outputs": [
    {
     "data": {
      "text/html": "<div>\n<style scoped>\n    .dataframe tbody tr th:only-of-type {\n        vertical-align: middle;\n    }\n\n    .dataframe tbody tr th {\n        vertical-align: top;\n    }\n\n    .dataframe thead th {\n        text-align: right;\n    }\n</style>\n<table border=\"1\" class=\"dataframe\">\n  <thead>\n    <tr style=\"text-align: right;\">\n      <th></th>\n      <th>class</th>\n      <th>student count</th>\n      <th>room</th>\n      <th>info.teachers.math</th>\n      <th>info.teachers.physics</th>\n    </tr>\n  </thead>\n  <tbody>\n    <tr>\n      <th>0</th>\n      <td>Year 1</td>\n      <td>20</td>\n      <td>Yellow</td>\n      <td>Rick Scott</td>\n      <td>Elon Mask</td>\n    </tr>\n    <tr>\n      <th>1</th>\n      <td>Year 2</td>\n      <td>25</td>\n      <td>Blue</td>\n      <td>Alan Turing</td>\n      <td>Albert Einstein</td>\n    </tr>\n  </tbody>\n</table>\n</div>",
      "text/plain": "    class  student count    room info.teachers.math info.teachers.physics\n0  Year 1             20  Yellow         Rick Scott             Elon Mask\n1  Year 2             25    Blue        Alan Turing       Albert Einstein"
     },
     "execution_count": 6,
     "metadata": {},
     "output_type": "execute_result"
    }
   ],
   "source": [
    "json_list = [\n",
    "    { \n",
    "        'class': 'Year 1', \n",
    "        'student count': 20, \n",
    "        'room': 'Yellow',\n",
    "        'info': {\n",
    "            'teachers': { \n",
    "                'math': 'Rick Scott', \n",
    "                'physics': 'Elon Mask' \n",
    "            }\n",
    "        }\n",
    "    },\n",
    "    { \n",
    "        'class': 'Year 2', \n",
    "        'student count': 25, \n",
    "        'room': 'Blue',\n",
    "        'info': {\n",
    "            'teachers': { \n",
    "                'math': 'Alan Turing', \n",
    "                'physics': 'Albert Einstein' \n",
    "            }\n",
    "        }\n",
    "    },\n",
    "]\n",
    "pd.json_normalize(json_list)"
   ]
  },
  {
   "cell_type": "code",
   "execution_count": 7,
   "metadata": {},
   "outputs": [
    {
     "data": {
      "text/html": "<div>\n<style scoped>\n    .dataframe tbody tr th:only-of-type {\n        vertical-align: middle;\n    }\n\n    .dataframe tbody tr th {\n        vertical-align: top;\n    }\n\n    .dataframe thead th {\n        text-align: right;\n    }\n</style>\n<table border=\"1\" class=\"dataframe\">\n  <thead>\n    <tr style=\"text-align: right;\">\n      <th></th>\n      <th>class</th>\n      <th>student count</th>\n      <th>room</th>\n      <th>info.teachers</th>\n    </tr>\n  </thead>\n  <tbody>\n    <tr>\n      <th>0</th>\n      <td>Year 1</td>\n      <td>20</td>\n      <td>Yellow</td>\n      <td>{'math': 'Rick Scott', 'physics': 'Elon Mask'}</td>\n    </tr>\n    <tr>\n      <th>1</th>\n      <td>Year 2</td>\n      <td>25</td>\n      <td>Blue</td>\n      <td>{'math': 'Alan Turing', 'physics': 'Albert Ein...</td>\n    </tr>\n  </tbody>\n</table>\n</div>",
      "text/plain": "    class  student count    room  \\\n0  Year 1             20  Yellow   \n1  Year 2             25    Blue   \n\n                                       info.teachers  \n0     {'math': 'Rick Scott', 'physics': 'Elon Mask'}  \n1  {'math': 'Alan Turing', 'physics': 'Albert Ein...  "
     },
     "execution_count": 7,
     "metadata": {},
     "output_type": "execute_result"
    }
   ],
   "source": [
    "pd.json_normalize(json_list, max_level=1)"
   ]
  },
  {
   "cell_type": "markdown",
   "metadata": {},
   "source": [
    "## Nested Lists "
   ]
  },
  {
   "cell_type": "code",
   "execution_count": 8,
   "metadata": {},
   "outputs": [
    {
     "data": {
      "text/html": "<div>\n<style scoped>\n    .dataframe tbody tr th:only-of-type {\n        vertical-align: middle;\n    }\n\n    .dataframe tbody tr th {\n        vertical-align: top;\n    }\n\n    .dataframe thead th {\n        text-align: right;\n    }\n</style>\n<table border=\"1\" class=\"dataframe\">\n  <thead>\n    <tr style=\"text-align: right;\">\n      <th></th>\n      <th>school</th>\n      <th>location</th>\n      <th>ranking</th>\n      <th>students</th>\n      <th>info.president</th>\n      <th>info.contacts.email.admission</th>\n      <th>info.contacts.email.general</th>\n      <th>info.contacts.tel</th>\n    </tr>\n  </thead>\n  <tbody>\n    <tr>\n      <th>0</th>\n      <td>ABC primary school</td>\n      <td>London</td>\n      <td>2</td>\n      <td>[{'name': 'Tom'}, {'name': 'James'}, {'name': ...</td>\n      <td>John Kasich</td>\n      <td>admission@abc.com</td>\n      <td>info@abc.com</td>\n      <td>123456789</td>\n    </tr>\n  </tbody>\n</table>\n</div>",
      "text/plain": "               school location  ranking  \\\n0  ABC primary school   London        2   \n\n                                            students info.president  \\\n0  [{'name': 'Tom'}, {'name': 'James'}, {'name': ...    John Kasich   \n\n  info.contacts.email.admission info.contacts.email.general info.contacts.tel  \n0             admission@abc.com                info@abc.com         123456789  "
     },
     "execution_count": 8,
     "metadata": {},
     "output_type": "execute_result"
    }
   ],
   "source": [
    "json_obj = {\n",
    "    'school': 'ABC primary school',\n",
    "    'location': 'London',\n",
    "    'ranking': 2,\n",
    "    'info': {\n",
    "        'president': 'John Kasich',\n",
    "        'contacts': {\n",
    "          'email': {\n",
    "              'admission': 'admission@abc.com',\n",
    "              'general': 'info@abc.com'\n",
    "          },\n",
    "          'tel': '123456789',\n",
    "      }\n",
    "    },\n",
    "    'students': [\n",
    "      { 'name': 'Tom' },\n",
    "      { 'name': 'James' },\n",
    "      { 'name': 'Jacqueline' }\n",
    "    ],\n",
    "}\n",
    "pd.json_normalize(json_obj)"
   ]
  },
  {
   "cell_type": "code",
   "execution_count": 9,
   "metadata": {},
   "outputs": [
    {
     "data": {
      "text/html": "<div>\n<style scoped>\n    .dataframe tbody tr th:only-of-type {\n        vertical-align: middle;\n    }\n\n    .dataframe tbody tr th {\n        vertical-align: top;\n    }\n\n    .dataframe thead th {\n        text-align: right;\n    }\n</style>\n<table border=\"1\" class=\"dataframe\">\n  <thead>\n    <tr style=\"text-align: right;\">\n      <th></th>\n      <th>name</th>\n    </tr>\n  </thead>\n  <tbody>\n    <tr>\n      <th>0</th>\n      <td>Tom</td>\n    </tr>\n    <tr>\n      <th>1</th>\n      <td>James</td>\n    </tr>\n    <tr>\n      <th>2</th>\n      <td>Jacqueline</td>\n    </tr>\n  </tbody>\n</table>\n</div>",
      "text/plain": "         name\n0         Tom\n1       James\n2  Jacqueline"
     },
     "execution_count": 9,
     "metadata": {},
     "output_type": "execute_result"
    }
   ],
   "source": [
    "# Flatten students\n",
    "pd.json_normalize(json_obj, record_path=['students'])"
   ]
  },
  {
   "cell_type": "markdown",
   "metadata": {},
   "source": [
    "## API for Classes Example "
   ]
  },
  {
   "cell_type": "code",
   "execution_count": 1,
   "metadata": {},
   "outputs": [],
   "source": [
    "my_json_path=\"courses.json\"\r\n",
    "\r\n",
    "f = open(my_json_path)\r\n",
    "import pandas as pd\r\n",
    "import json\r\n",
    "\r\n",
    "my_json=json.load(f)\r\n",
    "\r\n",
    "\r\n",
    "df=pd.json_normalize(my_json,record_path='items')"
   ]
  },
  {
   "cell_type": "code",
   "execution_count": 2,
   "metadata": {},
   "outputs": [],
   "source": [
    "csv_file = df.to_csv(\"json_test.csv\")"
   ]
  },
  {
   "cell_type": "code",
   "execution_count": 18,
   "metadata": {},
   "outputs": [
    {
     "data": {
      "text/html": "<div>\n<style scoped>\n    .dataframe tbody tr th:only-of-type {\n        vertical-align: middle;\n    }\n\n    .dataframe tbody tr th {\n        vertical-align: top;\n    }\n\n    .dataframe thead th {\n        text-align: right;\n    }\n</style>\n<table border=\"1\" class=\"dataframe\">\n  <thead>\n    <tr style=\"text-align: right;\">\n      <th></th>\n      <th>periodsAvailable</th>\n      <th>location</th>\n      <th>level</th>\n      <th>semesterLength</th>\n      <th>semester</th>\n      <th>subcategories</th>\n      <th>categories</th>\n      <th>description</th>\n      <th>courseCode</th>\n      <th>dualCreditDailySchedule</th>\n    </tr>\n  </thead>\n  <tbody>\n    <tr>\n      <th>0</th>\n      <td>[[3]]</td>\n      <td>AHS</td>\n      <td>On Level</td>\n      <td>Dual semester</td>\n      <td>1</td>\n      <td>Agriculture, Food &amp; Natural Resources</td>\n      <td>Business &amp; Industry</td>\n      <td>Advanced Animal Science (AG1AA)</td>\n      <td>AG1AA</td>\n      <td>NaN</td>\n    </tr>\n    <tr>\n      <th>1</th>\n      <td>[[3]]</td>\n      <td>AHS</td>\n      <td>On Level</td>\n      <td>Dual semester</td>\n      <td>2</td>\n      <td>Agriculture, Food &amp; Natural Resources</td>\n      <td>Business &amp; Industry</td>\n      <td>Advanced Animal Science (AG1AA)</td>\n      <td>AG1AA</td>\n      <td>NaN</td>\n    </tr>\n    <tr>\n      <th>2</th>\n      <td>[[2]]</td>\n      <td>AHS</td>\n      <td>On Level</td>\n      <td>Single semester</td>\n      <td>1</td>\n      <td>Agriculture, Food &amp; Natural Resources</td>\n      <td>Business &amp; Industry</td>\n      <td>Equine Science (AG1EQ)</td>\n      <td>AG1EQ</td>\n      <td>NaN</td>\n    </tr>\n    <tr>\n      <th>3</th>\n      <td>[[2]]</td>\n      <td>AHS</td>\n      <td>On Level</td>\n      <td>Single semester</td>\n      <td>2</td>\n      <td>Agriculture, Food &amp; Natural Resources</td>\n      <td>Business &amp; Industry</td>\n      <td>Equine Science (AG1EQ)</td>\n      <td>AG1EQ</td>\n      <td>NaN</td>\n    </tr>\n    <tr>\n      <th>4</th>\n      <td>[[3], [6], [7]]</td>\n      <td>AHS</td>\n      <td>On Level</td>\n      <td>Dual semester</td>\n      <td>1</td>\n      <td>Agriculture, Food &amp; Natural Resources</td>\n      <td>Business &amp; Industry</td>\n      <td>Floral Design (AG1FL)</td>\n      <td>AG1FL</td>\n      <td>NaN</td>\n    </tr>\n    <tr>\n      <th>...</th>\n      <td>...</td>\n      <td>...</td>\n      <td>...</td>\n      <td>...</td>\n      <td>...</td>\n      <td>...</td>\n      <td>...</td>\n      <td>...</td>\n      <td>...</td>\n      <td>...</td>\n    </tr>\n    <tr>\n      <th>688</th>\n      <td>[[1]]</td>\n      <td>AHS</td>\n      <td>NaN</td>\n      <td>Dual semester</td>\n      <td>2</td>\n      <td>NaN</td>\n      <td>NaN</td>\n      <td>English I Applied (LY9E1)</td>\n      <td>LY9E1</td>\n      <td>NaN</td>\n    </tr>\n    <tr>\n      <th>689</th>\n      <td>[[1]]</td>\n      <td>AHS</td>\n      <td>NaN</td>\n      <td>Dual semester</td>\n      <td>1</td>\n      <td>NaN</td>\n      <td>NaN</td>\n      <td>English II Applied (LY9E2)</td>\n      <td>LY9E2</td>\n      <td>NaN</td>\n    </tr>\n    <tr>\n      <th>690</th>\n      <td>[[1]]</td>\n      <td>AHS</td>\n      <td>NaN</td>\n      <td>Dual semester</td>\n      <td>2</td>\n      <td>NaN</td>\n      <td>NaN</td>\n      <td>English II Applied (LY9E2)</td>\n      <td>LY9E2</td>\n      <td>NaN</td>\n    </tr>\n    <tr>\n      <th>691</th>\n      <td>[[1]]</td>\n      <td>AHS</td>\n      <td>NaN</td>\n      <td>Dual semester</td>\n      <td>1</td>\n      <td>NaN</td>\n      <td>NaN</td>\n      <td>English III Applied (LY9E3)</td>\n      <td>LY9E3</td>\n      <td>NaN</td>\n    </tr>\n    <tr>\n      <th>692</th>\n      <td>[[1]]</td>\n      <td>AHS</td>\n      <td>NaN</td>\n      <td>Dual semester</td>\n      <td>2</td>\n      <td>NaN</td>\n      <td>NaN</td>\n      <td>English III Applied (LY9E3)</td>\n      <td>LY9E3</td>\n      <td>NaN</td>\n    </tr>\n  </tbody>\n</table>\n<p>693 rows × 10 columns</p>\n</div>",
      "text/plain": "    periodsAvailable location     level   semesterLength  semester  \\\n0              [[3]]      AHS  On Level    Dual semester         1   \n1              [[3]]      AHS  On Level    Dual semester         2   \n2              [[2]]      AHS  On Level  Single semester         1   \n3              [[2]]      AHS  On Level  Single semester         2   \n4    [[3], [6], [7]]      AHS  On Level    Dual semester         1   \n..               ...      ...       ...              ...       ...   \n688            [[1]]      AHS       NaN    Dual semester         2   \n689            [[1]]      AHS       NaN    Dual semester         1   \n690            [[1]]      AHS       NaN    Dual semester         2   \n691            [[1]]      AHS       NaN    Dual semester         1   \n692            [[1]]      AHS       NaN    Dual semester         2   \n\n                             subcategories           categories  \\\n0    Agriculture, Food & Natural Resources  Business & Industry   \n1    Agriculture, Food & Natural Resources  Business & Industry   \n2    Agriculture, Food & Natural Resources  Business & Industry   \n3    Agriculture, Food & Natural Resources  Business & Industry   \n4    Agriculture, Food & Natural Resources  Business & Industry   \n..                                     ...                  ...   \n688                                    NaN                  NaN   \n689                                    NaN                  NaN   \n690                                    NaN                  NaN   \n691                                    NaN                  NaN   \n692                                    NaN                  NaN   \n\n                         description courseCode dualCreditDailySchedule  \n0    Advanced Animal Science (AG1AA)      AG1AA                     NaN  \n1    Advanced Animal Science (AG1AA)      AG1AA                     NaN  \n2             Equine Science (AG1EQ)      AG1EQ                     NaN  \n3             Equine Science (AG1EQ)      AG1EQ                     NaN  \n4              Floral Design (AG1FL)      AG1FL                     NaN  \n..                               ...        ...                     ...  \n688        English I Applied (LY9E1)      LY9E1                     NaN  \n689       English II Applied (LY9E2)      LY9E2                     NaN  \n690       English II Applied (LY9E2)      LY9E2                     NaN  \n691      English III Applied (LY9E3)      LY9E3                     NaN  \n692      English III Applied (LY9E3)      LY9E3                     NaN  \n\n[693 rows x 10 columns]"
     },
     "execution_count": 18,
     "metadata": {},
     "output_type": "execute_result"
    }
   ],
   "source": [
    "df"
   ]
  },
  {
   "cell_type": "code",
   "execution_count": 13,
   "metadata": {},
   "outputs": [],
   "source": [
    "html_table=df.to_html()"
   ]
  },
  {
   "cell_type": "code",
   "execution_count": 14,
   "metadata": {},
   "outputs": [],
   "source": [
    "with open ('test.html','w') as file:\n",
    "    file.write('<html>')\n",
    "    file.write('<head>')\n",
    "    file.write('<link rel=\"stylesheet\" href=\"APItest.css\">')\n",
    "    file.write('</head>')\n",
    "    file.write('<body>')\n",
    "    file.write(html_table)\n",
    "    file.write('</body>')\n",
    "    file.write('</html>')"
   ]
  },
  {
   "cell_type": "code",
   "execution_count": null,
   "metadata": {},
   "outputs": [],
   "source": []
  },
  {
   "cell_type": "code",
   "execution_count": null,
   "metadata": {},
   "outputs": [],
   "source": []
  },
  {
   "cell_type": "code",
   "execution_count": null,
   "metadata": {},
   "outputs": [],
   "source": []
  }
 ],
 "metadata": {
  "kernelspec": {
   "display_name": "Python 3",
   "language": "python",
   "name": "python3"
  },
  "language_info": {
   "codemirror_mode": {
    "name": "ipython",
    "version": 3
   },
   "file_extension": ".py",
   "mimetype": "text/x-python",
   "name": "python",
   "nbconvert_exporter": "python",
   "pygments_lexer": "ipython3",
   "version": "3.9.1"
  }
 },
 "nbformat": 4,
 "nbformat_minor": 5
}